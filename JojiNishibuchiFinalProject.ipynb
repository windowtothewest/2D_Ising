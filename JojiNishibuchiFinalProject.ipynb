{
 "cells": [
  {
   "cell_type": "code",
   "execution_count": 1,
   "metadata": {},
   "outputs": [],
   "source": [
    "import numpy as np\n",
    "from numba import jit\n",
    "import matplotlib.pyplot as plt\n",
    "import pickle\n",
    "import pandas as pd\n",
    "import time"
   ]
  },
  {
   "cell_type": "markdown",
   "metadata": {},
   "source": [
    "# The Ising Model: An NP-Complete Ferromagnetic Model\n",
    "### This project will focus on the implementation and optimization of the Ising model, a model intended to represent the interactions of ferromagnetic atoms in a condensed material."
   ]
  },
  {
   "cell_type": "code",
   "execution_count": 2,
   "metadata": {},
   "outputs": [
    {
     "ename": "IndentationError",
     "evalue": "expected an indented block (2577841294.py, line 105)",
     "output_type": "error",
     "traceback": [
      "\u001b[0;36m  Input \u001b[0;32mIn [2]\u001b[0;36m\u001b[0m\n\u001b[0;31m    config1 = ising_generator(10)\u001b[0m\n\u001b[0m                                 ^\u001b[0m\n\u001b[0;31mIndentationError\u001b[0m\u001b[0;31m:\u001b[0m expected an indented block\n"
     ]
    }
   ],
   "source": [
    "def pickler(filename, data_to_save):\n",
    "    \"\"\"\n",
    "    Writes Python data structure in memory to file on disk\n",
    "    \"\"\"\n",
    "    with open(filename, 'wb') as file:\n",
    "        pickle.dump(data_to_save, file)\n",
    "\n",
    "def unpickler(filename):\n",
    "    \"\"\"\n",
    "    Reads data on disk to Python data structure in memory\n",
    "    \"\"\"\n",
    "    with open(filename, 'rb') as file:\n",
    "        output = pickle.load(file)\n",
    "    return output\n",
    "\n",
    "def ising_generator(n, random_state=0):\n",
    "    \"\"\"\n",
    "    Generates an nxn array of randomly assigned spin up (1) or spin down (0) elements to represent a 2D ferromagnetic material\n",
    "        Inputs: \n",
    "            n, integer\n",
    "        Outputs: \n",
    "            ising_arr, nxn np.array()\n",
    "        Errors:\n",
    "            AssertError: raised if input is not of type int.\n",
    "    \"\"\"\n",
    "    assert type(n) is int, \"Input must be of type int.\"\n",
    "    ising_arr = np.random.randint(2,size = (n,n))\n",
    "    ising_arr[ising_arr == 0] = -1\n",
    "    return ising_arr\n",
    "\n",
    "@jit(nopython = True)\n",
    "def config_energy(ising_arr, J):    \n",
    "    \"\"\"\n",
    "    Inputs:\n",
    "        ising_arr: np.ndarray, randomly distributed 0s and 1s in square matrix\n",
    "        J: Interaction term, determines if anti-ferromagnetic (+1) or ferromagnetic (-1) or non-interacting (0)\n",
    "    Outputs:\n",
    "        final_energy: total energy associated with configuration of ising_arr\n",
    "    Errors:\n",
    "        AssertError: ising_arr must be a square array\n",
    "    \"\"\"\n",
    "    assert J == 1 or J == -1 or J == 0 #Validate input for J\n",
    "    assert ising_arr.shape[0] == ising_arr.shape[1] #Assert square input array\n",
    "    n = ising_arr.shape[0]\n",
    "    num_interactions = 0\n",
    "    hamiltonian = 0 #init hamiltonian summation\n",
    "    for i in range(n):\n",
    "        for j in range(n):\n",
    "            ## Only need to calculate interaction with element below and element to the right to prevent double counting ferromagnetic interactions\n",
    "            hamiltonian += -J * ising_arr[i][j] * ising_arr[ (i + 1) % n ][j] #Lower interaction, periodic boundary condition is maintained by the remainder calculation in the index\n",
    "            hamiltonian += -J * ising_arr[i][j] * ising_arr[i][ (j +1 ) % n ] #Right interaction, periodic boundary condition is maintained by the remainder calculation in the index\n",
    "    hamiltonian = hamiltonian / n**2 #Normalization of total hamiltonian energy to energy/site\n",
    "    magnetism = np.sum(ising_arr) / n**2 #Total magnetism normalized to magnetization/site\n",
    "    return hamiltonian, magnetism\n",
    "\n",
    "@jit(nopython = True)\n",
    "def single_flip(ising_arr, J, i, j, init_energy):\n",
    "    \"\"\"\n",
    "    Computationally efficient method of calculating change in energy by flipping a site's magnetization in MCMC\n",
    "    Inputs:\n",
    "        ising_arr: square np.array() from ising_generator()\n",
    "        J: Interaction term, int of either -1, 0, 1\n",
    "        i: int, row index to flip\n",
    "        j: int, column index to flip\n",
    "        init_energy: float-like, energy of configuration before flip\n",
    "    Outputs: \n",
    "        delta_e: Potential change in configurational energy as a result of the element's flip in magnetism\n",
    "        new_e: Configurational energy following the flip in magnetism\n",
    "    \"\"\"\n",
    "    n = ising_arr.shape[0]\n",
    "    delta_e = 0\n",
    "    delta_e += -J * ising_arr[i][j] * ising_arr[(i+1) % n][j] #upper interaction\n",
    "    delta_e += -J * ising_arr[i][j] * ising_arr[(i-1) % n][j] #lower interaction\n",
    "    delta_e += -J * ising_arr[i][j] * ising_arr[i][(j + 1) % n] #right interaction\n",
    "    delta_e += -J * ising_arr[i][j] * ising_arr[i][(j - 1) % n] # left interaction\n",
    "\n",
    "    new_e = init_energy + delta_e\n",
    "\n",
    "    return delta_e, new_e\n",
    "\n",
    "@jit(nopython = True)\n",
    "def markovchain_montecarlo(ising_arr, mcmc_iterations, equilibriating_iterations, savename):\n",
    "    \"\"\"\n",
    "    Wrapper for a single Markov Chain Monte Carlo optimization of a 2D Ising lattice.\n",
    "    Inputs:\n",
    "        ising_arr: Array to optimize from ising_generator function\n",
    "        mcmc_iterations: int, number of MCMC iterations to run following equilibriation\n",
    "    Outputs:\n",
    "        energies: array of configurational energies/step\n",
    "        magnetism: array of total magnetization/step\n",
    "    \"\"\"\n",
    "    assert ising_arr.shape[0] == ising_arr.shape[1] #must be square array\n",
    "    n = ising_arr.shape[0] \n",
    "    #Equilibriation\n",
    "    for i in range(equilibriating_iterations):\n",
    "        temp = 0\n",
    "        #### Call MCMC optimization for equilbriating_iterations steps\n",
    "        #### Do not record energies/magnetism to memory\n",
    "    for i in range(mcmc_iterations):\n",
    "        #### Call MCMC optimization for mcmc_iterations steps\n",
    "        #### Write energies/magnetism to memory \n",
    "    \n",
    "    #Write run to \n",
    "\n",
    "config1 = ising_generator(10)\n",
    "begin = time.time()\n",
    "en1 = config_energy(config1, -1)[0]\n",
    "single_flip(config1, -1, 2, 4, en1)\n",
    "end = time.time()\n",
    "print(f\"Time to run: {end-begin} seconds\") "
   ]
  },
  {
   "cell_type": "code",
   "execution_count": 63,
   "metadata": {},
   "outputs": [
    {
     "name": "stdout",
     "output_type": "stream",
     "text": [
      "Time to run: 5.91278076171875e-05 seconds\n"
     ]
    }
   ],
   "source": []
  },
  {
   "cell_type": "code",
   "execution_count": null,
   "metadata": {},
   "outputs": [],
   "source": []
  }
 ],
 "metadata": {
  "kernelspec": {
   "display_name": "Python 3.9.13 ('cs501')",
   "language": "python",
   "name": "python3"
  },
  "language_info": {
   "codemirror_mode": {
    "name": "ipython",
    "version": 3
   },
   "file_extension": ".py",
   "mimetype": "text/x-python",
   "name": "python",
   "nbconvert_exporter": "python",
   "pygments_lexer": "ipython3",
   "version": "3.9.13"
  },
  "orig_nbformat": 4,
  "vscode": {
   "interpreter": {
    "hash": "17bbfe994825cce030d2c9ce618ab9c4a151198b5a848565c95e856204dbebc0"
   }
  }
 },
 "nbformat": 4,
 "nbformat_minor": 2
}
